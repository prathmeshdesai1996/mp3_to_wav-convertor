{
 "cells": [
  {
   "cell_type": "code",
   "execution_count": 1,
   "id": "8eae2ac6",
   "metadata": {},
   "outputs": [],
   "source": [
    "import os\n",
    "import soundfile as sf"
   ]
  },
  {
   "cell_type": "code",
   "execution_count": 2,
   "id": "5de5a403",
   "metadata": {},
   "outputs": [],
   "source": [
    "def convert_mp3_to_wav(input_folder, output_folder=None):\n",
    "    if not output_folder:\n",
    "        output_folder = \"converted_audio\"\n",
    "\n",
    "    if not os.path.exists(output_folder):\n",
    "        os.mkdir(output_folder)\n",
    "\n",
    "    for file in os.listdir(input_folder):\n",
    "        if file.endswith(\".mp3\"):\n",
    "            mp3_path = os.path.join(input_folder, file)\n",
    "            wav_path = os.path.join(output_folder, file.replace(\".mp3\", \".wav\"))\n",
    "\n",
    "            data, sr = sf.read(mp3_path)\n",
    "            sf.write(wav_path, data, sr)\n",
    "\n",
    "    print(\"Conversion completed successfully!\")\n"
   ]
  },
  {
   "cell_type": "code",
   "execution_count": 3,
   "id": "38cb654f",
   "metadata": {},
   "outputs": [],
   "source": [
    "input_folder = \"sample_mp3_files/\"\n",
    "output_folder = \"converted_audio/\""
   ]
  },
  {
   "cell_type": "code",
   "execution_count": 4,
   "id": "31c6872b",
   "metadata": {},
   "outputs": [
    {
     "name": "stdout",
     "output_type": "stream",
     "text": [
      "Conversion completed successfully!\n"
     ]
    }
   ],
   "source": [
    "# # Example usage:\n",
    "convert_mp3_to_wav(input_folder)"
   ]
  },
  {
   "cell_type": "code",
   "execution_count": 33,
   "id": "6f33667a",
   "metadata": {},
   "outputs": [],
   "source": []
  },
  {
   "cell_type": "code",
   "execution_count": null,
   "id": "5bb1a598",
   "metadata": {},
   "outputs": [],
   "source": []
  }
 ],
 "metadata": {
  "kernelspec": {
   "display_name": "Python 3 (ipykernel)",
   "language": "python",
   "name": "python3"
  },
  "language_info": {
   "codemirror_mode": {
    "name": "ipython",
    "version": 3
   },
   "file_extension": ".py",
   "mimetype": "text/x-python",
   "name": "python",
   "nbconvert_exporter": "python",
   "pygments_lexer": "ipython3",
   "version": "3.9.12"
  }
 },
 "nbformat": 4,
 "nbformat_minor": 5
}
